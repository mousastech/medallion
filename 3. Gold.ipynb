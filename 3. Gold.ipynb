{
 "cells": [
  {
   "cell_type": "markdown",
   "metadata": {
    "application/vnd.databricks.v1+cell": {
     "cellMetadata": {},
     "inputWidgets": {},
     "nuid": "38c94643-c81d-4f9e-b524-47987b323723",
     "showTitle": false,
     "tableResultSettingsMap": {},
     "title": ""
    }
   },
   "source": [
    "<img src=\"https://github.com/mousastech/medallion/blob/fd1da67c7e3e3829e0ea84fc51c6c79a02e408da/imgs/Medallion.png?raw=true\">"
   ]
  },
  {
   "cell_type": "markdown",
   "metadata": {
    "application/vnd.databricks.v1+cell": {
     "cellMetadata": {},
     "inputWidgets": {},
     "nuid": "57b2e169-c87c-4311-a355-9bee2e37e2e8",
     "showTitle": false,
     "tableResultSettingsMap": {},
     "title": ""
    }
   },
   "source": [
    "#Medallion Architecture\n",
    "With Unity Catalog\n",
    "\n",
    "<img src=\"https://github.com/mousastech/medallion/blob/92d8750f657288477d48ba7e07ac8c8340d49cf3/imgs/architecture.png?raw=true\">\n",
    "\n",
    "[Reference](https://www.databricks.com/glossary/medallion-architecture)"
   ]
  },
  {
   "cell_type": "code",
   "execution_count": 0,
   "metadata": {
    "application/vnd.databricks.v1+cell": {
     "cellMetadata": {
      "byteLimit": 2048000,
      "rowLimit": 10000
     },
     "inputWidgets": {},
     "nuid": "c10c0240-1492-4067-a370-73eba894bec3",
     "showTitle": true,
     "tableResultSettingsMap": {},
     "title": "Importing  libraries"
    }
   },
   "outputs": [],
   "source": [
    "import pandas as pd\n",
    "from pyspark.sql import SparkSession\n",
    "from pyspark.sql.functions import *\n",
    "from pyspark.sql.types import StructType, StructField, StringType, TimestampType, DoubleType"
   ]
  },
  {
   "cell_type": "code",
   "execution_count": 0,
   "metadata": {
    "application/vnd.databricks.v1+cell": {
     "cellMetadata": {
      "byteLimit": 2048000,
      "rowLimit": 10000
     },
     "inputWidgets": {},
     "nuid": "af46b4ab-f071-40e7-8ecf-812c990f9017",
     "showTitle": true,
     "tableResultSettingsMap": {},
     "title": "Point External locations mapped"
    }
   },
   "outputs": [],
   "source": [
    "# Point out the external location mapped before\n",
    "# Unity Catalog manages all permissions \n",
    "\n",
    "catalog = \"ecommerce\"\n",
    "schema = \"gold\""
   ]
  },
  {
   "cell_type": "markdown",
   "metadata": {
    "application/vnd.databricks.v1+cell": {
     "cellMetadata": {},
     "inputWidgets": {},
     "nuid": "3f796922-b3b7-472b-aaf3-e00ffbcc9599",
     "showTitle": false,
     "tableResultSettingsMap": {},
     "title": ""
    }
   },
   "source": [
    "#Loading Gold layer\n",
    "Business-level Aggregates"
   ]
  },
  {
   "cell_type": "code",
   "execution_count": 0,
   "metadata": {
    "application/vnd.databricks.v1+cell": {
     "cellMetadata": {
      "byteLimit": 2048000,
      "implicitDf": true,
      "rowLimit": 10000
     },
     "inputWidgets": {},
     "nuid": "a5dac4cf-6cc2-4ab8-a1a4-8cb482590af5",
     "showTitle": true,
     "tableResultSettingsMap": {},
     "title": "sales_sql"
    }
   },
   "outputs": [],
   "source": [
    "%sql\n",
    "-- Criando a camada Gold, gerando uma tabela juntando todos os dados\n",
    "CREATE OR REPLACE TABLE ecommerce.gold.sales\n",
    "USING DELTA PARTITIONED BY (estadoCliente) \n",
    "AS\n",
    "SELECT\n",
    "  CASE\n",
    "    WHEN orders_bronze.order_status = 'shipped' THEN 'enviado'\n",
    "    WHEN orders_bronze.order_status = 'canceled' THEN 'cancelado'\n",
    "    WHEN orders_bronze.order_status = 'invoiced' THEN 'faturado'\n",
    "    WHEN orders_bronze.order_status = 'created' THEN 'criado'\n",
    "    WHEN orders_bronze.order_status = 'delivered' THEN 'entregue'\n",
    "    WHEN orders_bronze.order_status = 'unavailable' THEN 'indisponível'\n",
    "    WHEN orders_bronze.order_status = 'processing' THEN 'em processamento'\n",
    "    WHEN orders_bronze.order_status = 'approved' THEN 'aprovado'\n",
    "  END AS statusDoPedido,\n",
    "  orders_bronze.order_purchase_timestamp AS horaCompraPedido,\n",
    "  orders_bronze.order_approved_at AS horaPedidoAprovado,\n",
    "  orders_bronze.order_estimated_delivery_date AS dataEstimadaEntrega,\n",
    "  DATEDIFF(\n",
    "    orders_bronze.order_estimated_delivery_date,\n",
    "    orders_bronze.order_approved_at\n",
    "  ) AS dataEntregaEmDias,\n",
    "  order_reviews.review_score AS notaProduto,\n",
    "  order_reviews.review_answer_timestamp AS dataComentarioSobreProduto,\n",
    "  CASE\n",
    "    WHEN order_payments.paymentType = 'credit_card' THEN 'cartao_de_credito'\n",
    "    WHEN order_payments.paymentType = 'boleto' THEN 'boleto'\n",
    "    WHEN order_payments.paymentType = 'not_defined' THEN 'não_definido'\n",
    "    WHEN order_payments.paymentType = 'voucher' THEN 'voucher'\n",
    "    WHEN order_payments.paymentType = 'debit_card' THEN 'cartao_de_debito'\n",
    "  END AS meioDePagamento,\n",
    "  order_payments.paymentInstallments AS parcelamento,\n",
    "  order_payments.paymentValue AS valorPago,\n",
    "  customers.customer_city AS cidadeCliente,\n",
    "  customers.customer_state AS estadoCliente\n",
    "FROM\n",
    "  ecommerce.bbronze.orders_bronze orders_bronze\n",
    "  LEFT JOIN ecommerce.bbronze.order_payments_bronze order_payments \n",
    "    ON orders_bronze.order_id = order_payments.order_id\n",
    "  LEFT JOIN ecommerce.bbronze.order_reviews_bronze order_reviews \n",
    "    ON orders_bronze.order_id = order_reviews.order_id\n",
    "  LEFT JOIN ecommerce.bbronze.customers_bronze customers \n",
    "    ON orders_bronze.customer_id = customers.customer_id"
   ]
  },
  {
   "cell_type": "code",
   "execution_count": 0,
   "metadata": {
    "application/vnd.databricks.v1+cell": {
     "cellMetadata": {
      "byteLimit": 2048000,
      "implicitDf": true,
      "rowLimit": 10000
     },
     "inputWidgets": {},
     "nuid": "390dcc31-b1b0-41c7-98a4-4a14457b65d2",
     "showTitle": true,
     "tableResultSettingsMap": {},
     "title": "sales (python)"
    }
   },
   "outputs": [],
   "source": [
    "from pyspark.sql.functions import col, when, datediff\n",
    "\n",
    "# Read the necessary tables into DataFrames\n",
    "orders = spark.table(\"ecommerce.bbronze.orders_bronze\")\n",
    "order_payments = spark.table(\"ecommerce.bbronze.order_payments_bronze\")\n",
    "order_reviews = spark.table(\"ecommerce.bbronze.order_reviews_bronze\")\n",
    "customers = spark.table(\"ecommerce.bbronze.customers_bronze\")\n",
    "\n",
    "# Perform the necessary joins and transformations\n",
    "sales = (\n",
    "    orders\n",
    "    .join(order_payments, orders.order_id == order_payments.orderId, \"left\")\n",
    "    .join(order_reviews, orders.order_id == order_reviews.order_id, \"left\")\n",
    "    .join(customers, orders.customer_id == customers.customer_id, \"left\")\n",
    "    .select(\n",
    "        when(col(\"orders_bronze.order_status\") == 'shipped', 'enviado')\n",
    "        .when(col(\"orders_bronze.order_status\") == 'canceled', 'cancelado')\n",
    "        .when(col(\"orders_bronze.order_status\") == 'invoiced', 'faturado')\n",
    "        .when(col(\"orders_bronze.order_status\") == 'created', 'criado')\n",
    "        .when(col(\"orders_bronze.order_status\") == 'delivered', 'entregue')\n",
    "        .when(col(\"orders_bronze.order_status\") == 'unavailable', 'indisponível')\n",
    "        .when(col(\"orders_bronze.order_status\") == 'processing', 'em processamento')\n",
    "        .when(col(\"orders_bronze.order_status\") == 'approved', 'aprovado')\n",
    "        .alias(\"statusDoPedido\"),\n",
    "        col(\"orders_bronze.order_purchase_timestamp\").alias(\"horaCompraPedido\"),\n",
    "        col(\"orders_bronze.order_approved_at\").alias(\"horaPedidoAprovado\"),\n",
    "        col(\"orders_bronze.order_estimated_delivery_date\").alias(\"dataEstimadaEntrega\"),\n",
    "        datediff(col(\"orders_bronze.order_estimated_delivery_date\"), col(\"orders_bronze.order_approved_at\")).alias(\"dataEntregaEmDias\"),\n",
    "        col(\"order_reviews_bronze.review_score\").alias(\"notaProduto\"),\n",
    "        col(\"order_reviews_bronze.review_answer_timestamp\").alias(\"dataComentarioSobreProduto\"),\n",
    "        when(col(\"order_payments_bronze.paymentType\") == 'credit_card', 'cartao_de_credito')\n",
    "        .when(col(\"order_payments_bronze.paymentType\") == 'boleto', 'boleto')\n",
    "        .when(col(\"order_payments_bronze.paymentType\") == 'not_defined', 'não_definido')\n",
    "        .when(col(\"order_payments_bronze.paymentType\") == 'voucher', 'voucher')\n",
    "        .when(col(\"order_payments_bronze.paymentType\") == 'debit_card', 'cartao_de_debito')\n",
    "        .alias(\"meioDePagamento\"),\n",
    "        col(\"order_payments_bronze.paymentInstallments\").alias(\"parcelamento\"),\n",
    "        col(\"order_payments_bronze.paymentValue\").alias(\"valorPago\")\n",
    "    )\n",
    ")\n",
    "\n",
    "#display(sales)\n",
    "\n",
    "# Write the DataFrame to a Delta table in the silver schema with schema merge enabled\n",
    "table_name = \"ecommerce.gold.sales\"\n",
    "\n",
    "sales.write.format(\"delta\") \\\n",
    "    .mode(\"overwrite\") \\\n",
    "    .option(\"mergeSchema\", \"true\") \\\n",
    "    .saveAsTable(table_name)"
   ]
  },
  {
   "cell_type": "code",
   "execution_count": 0,
   "metadata": {
    "application/vnd.databricks.v1+cell": {
     "cellMetadata": {
      "byteLimit": 2048000,
      "implicitDf": true,
      "rowLimit": 10000
     },
     "inputWidgets": {},
     "nuid": "c249b19c-575b-41c7-8de0-7aa615d186c3",
     "showTitle": false,
     "tableResultSettingsMap": {},
     "title": ""
    }
   },
   "outputs": [],
   "source": [
    "%sql\n",
    "\n",
    "SELECT\n",
    "  estadoCliente AS estados,\n",
    "  meioDePagamento AS `meio de pagamento`,\n",
    "  count(*) AS `percentual`\n",
    "FROM\n",
    "  ecommerce.gold.sales\n",
    "WHERE\n",
    "  meioDePagamento IS NOT NULL\n",
    "  AND YEAR(horaPedidoAprovado) IS NOT NULL\n",
    "  AND statusDoPedido = \"entregue\"\n",
    "GROUP BY\n",
    "  estadoCliente,\n",
    "  meioDePagamento"
   ]
  },
  {
   "cell_type": "code",
   "execution_count": 0,
   "metadata": {
    "application/vnd.databricks.v1+cell": {
     "cellMetadata": {
      "byteLimit": 2048000,
      "implicitDf": true,
      "rowLimit": 10000
     },
     "inputWidgets": {},
     "nuid": "aff2f956-7228-4025-a736-672b5bca1aa8",
     "showTitle": false,
     "tableResultSettingsMap": {},
     "title": ""
    }
   },
   "outputs": [],
   "source": [
    "%sql\n",
    "select * from ecommerce.gold.sales"
   ]
  },
  {
   "cell_type": "markdown",
   "metadata": {
    "application/vnd.databricks.v1+cell": {
     "cellMetadata": {},
     "inputWidgets": {},
     "nuid": "60870962-c394-4a8f-b5ab-ddf940c87e28",
     "showTitle": false,
     "tableResultSettingsMap": {},
     "title": ""
    }
   },
   "source": [
    "# Views"
   ]
  },
  {
   "cell_type": "code",
   "execution_count": 0,
   "metadata": {
    "application/vnd.databricks.v1+cell": {
     "cellMetadata": {
      "byteLimit": 2048000,
      "implicitDf": true,
      "rowLimit": 10000
     },
     "inputWidgets": {},
     "nuid": "90add451-53b0-43f9-a12a-58d4ed1a9873",
     "showTitle": false,
     "tableResultSettingsMap": {},
     "title": ""
    }
   },
   "outputs": [
    {
     "output_type": "display_data",
     "data": {
      "text/plain": [
       "Databricks visualization. Run in Databricks to view."
      ]
     },
     "metadata": {
      "application/vnd.databricks.v1.subcommand+json": {
       "baseErrorDetails": null,
       "bindings": {},
       "collapsed": false,
       "command": "%sql WITH q AS (SELECT\n  estadoCliente AS estados,\n  meioDePagamento AS `meio de pagamento`,\n  count(*) AS `percentual`\nFROM\n  delta.`dbfs:/FileStore/project/olist/gold/sales`\nWHERE\n  meioDePagamento IS NOT NULL\n  AND YEAR(horaPedidoAprovado) IS NOT NULL\n  AND statusDoPedido = \"entregue\"\nGROUP BY\n  estadoCliente,\n  meioDePagamento) SELECT `estados`,`meio de pagamento`,SUM(`percentual`) `column_808f08b07` FROM q GROUP BY `estados`,`meio de pagamento`",
       "commandTitle": "Percental Meio Pgto UF",
       "commandType": "auto",
       "commandVersion": 0,
       "commentThread": [],
       "commentsVisible": false,
       "contentSha256Hex": null,
       "customPlotOptions": {
        "redashChart": [
         {
          "key": "type",
          "value": "CHART"
         },
         {
          "key": "options",
          "value": {
           "alignYAxesAtZero": true,
           "coefficient": 1,
           "columnConfigurationMap": {
            "series": {
             "column": "meio de pagamento",
             "id": "column_808f08b06"
            },
            "x": {
             "column": "estados",
             "id": "column_808f08b05"
            },
            "y": [
             {
              "column": "percentual",
              "id": "column_808f08b07",
              "transform": "SUM"
             }
            ]
           },
           "dateTimeFormat": "DD/MM/YYYY HH:mm",
           "direction": {
            "type": "counterclockwise"
           },
           "error_y": {
            "type": "data",
            "visible": true
           },
           "globalSeriesType": "column",
           "isAggregationOn": true,
           "legend": {
            "traceorder": "normal"
           },
           "missingValuesAsZero": true,
           "numberFormat": "0,0[.]00000",
           "percentFormat": "0[.]00%",
           "series": {
            "error_y": {
             "type": "data",
             "visible": true
            },
            "percentValues": true,
            "stacking": "stack"
           },
           "seriesOptions": {
            "boleto": {
             "name": "Boleto"
            },
            "cartao_de_credito": {
             "name": "Cartão de Crédito"
            },
            "cartao_de_debito": {
             "name": "Cartão de Débito"
            },
            "column_808f08b07": {
             "name": "percentual",
             "yAxis": 0
            },
            "voucher": {
             "name": "Voucher"
            }
           },
           "showDataLabels": true,
           "sizemode": "diameter",
           "sortX": true,
           "sortY": true,
           "swappedAxes": false,
           "textFormat": "",
           "useAggregationsUi": true,
           "valuesOptions": {},
           "version": 2,
           "xAxis": {
            "labels": {
             "enabled": true
            },
            "type": "-"
           },
           "yAxis": [
            {
             "type": "-"
            },
            {
             "opposite": true,
             "type": "-"
            }
           ]
          }
         }
        ]
       },
       "datasetPreviewNameToCmdIdMap": {},
       "diffDeletes": [],
       "diffInserts": [],
       "displayType": "redashChart",
       "error": null,
       "errorDetails": null,
       "errorSummary": null,
       "errorTraceType": null,
       "finishTime": 0,
       "globalVars": {},
       "guid": "",
       "height": "auto",
       "hideCommandCode": false,
       "hideCommandResult": false,
       "iPythonMetadata": null,
       "inputWidgets": {},
       "isLockedInExamMode": false,
       "latestUser": "a user",
       "latestUserId": null,
       "listResultMetadata": null,
       "metadata": {},
       "nuid": "4461895b-bb57-4ecb-9dfc-7db088cb8a5c",
       "origId": 0,
       "parentHierarchy": [],
       "pivotAggregation": null,
       "pivotColumns": null,
       "position": 10.0,
       "resultDbfsErrorMessage": null,
       "resultDbfsStatus": "INLINED_IN_TREE",
       "results": null,
       "showCommandTitle": false,
       "startTime": 0,
       "state": "input",
       "streamStates": {},
       "subcommandOptions": {
        "queryPlan": {
         "groups": [
          {
           "column": "estados",
           "type": "column"
          },
          {
           "column": "meio de pagamento",
           "type": "column"
          }
         ],
         "selects": [
          {
           "column": "estados",
           "type": "column"
          },
          {
           "column": "meio de pagamento",
           "type": "column"
          },
          {
           "alias": "column_808f08b07",
           "args": [
            {
             "column": "percentual",
             "type": "column"
            }
           ],
           "function": "SUM",
           "type": "function"
          }
         ]
        }
       },
       "submitTime": 0,
       "subtype": "tableResultSubCmd.visualization",
       "tableResultIndex": 0,
       "tableResultSettingsMap": {},
       "useConsistentColors": false,
       "version": "CommandV1",
       "width": "auto",
       "workflows": null,
       "xColumns": null,
       "yColumns": null
      }
     },
     "output_type": "display_data"
    }
   ],
   "source": [
    "%sql\n",
    "\n",
    "SELECT\n",
    "  --estadoCliente AS estados, \n",
    "  meioDePagamento AS `meio de pagamento`\n",
    "  , COUNT(*) AS `percentual`\n",
    "FROM\n",
    "  ecommerce.gold.sales\n",
    "WHERE\n",
    "  meioDePagamento IS NOT NULL\n",
    "  AND YEAR(horaPedidoAprovado) IS NOT NULL\n",
    "  AND statusDoPedido = \"entregue\"\n",
    "GROUP BY\n",
    "  --estadoCliente, \n",
    "  meioDePagamento"
   ]
  },
  {
   "cell_type": "code",
   "execution_count": 0,
   "metadata": {
    "application/vnd.databricks.v1+cell": {
     "cellMetadata": {
      "byteLimit": 2048000,
      "implicitDf": true,
      "rowLimit": 10000
     },
     "inputWidgets": {},
     "nuid": "5e90baf4-a075-45d6-8e9c-9e331746c8ae",
     "showTitle": false,
     "tableResultSettingsMap": {},
     "title": ""
    }
   },
   "outputs": [
    {
     "output_type": "display_data",
     "data": {
      "text/plain": [
       "Databricks visualization. Run in Databricks to view."
      ]
     },
     "metadata": {
      "application/vnd.databricks.v1.subcommand+json": {
       "baseErrorDetails": null,
       "bindings": {},
       "collapsed": false,
       "command": "%sql WITH q AS (SELECT\n  T.estadoCliente AS estados,\n  T.diasEntrega AS `média de dias para entrega de produto`\nFROM\n  (\n    SELECT\n      estadoCliente,\n      ROUND(AVG(dataEntregaEmDias), 0) AS DiasEntrega\n    FROM\n      delta.`dbfs:/FileStore/project/olist/gold/sales`\n    WHERE\n      meioDePagamento IS NOT NULL\n      AND YEAR(horaPedidoAprovado) IS NOT NULL\n      AND statusDoPedido <> \"cancelado\"\n    GROUP BY\n      estadoCliente\n  ) AS T) SELECT `estados`,SUM(`média de dias para entrega de produto`) `column_808f08b09` FROM q GROUP BY `estados`",
       "commandTitle": "Leadtime Entrega",
       "commandType": "auto",
       "commandVersion": 0,
       "commentThread": [],
       "commentsVisible": false,
       "contentSha256Hex": null,
       "customPlotOptions": {
        "redashChart": [
         {
          "key": "type",
          "value": "CHART"
         },
         {
          "key": "options",
          "value": {
           "alignYAxesAtZero": true,
           "coefficient": 1,
           "columnConfigurationMap": {
            "x": {
             "column": "estados",
             "id": "column_808f08b08"
            },
            "y": [
             {
              "column": "média de dias para entrega de produto",
              "id": "column_808f08b09",
              "transform": "SUM"
             }
            ]
           },
           "dateTimeFormat": "DD/MM/YYYY HH:mm",
           "direction": {
            "type": "counterclockwise"
           },
           "error_y": {
            "type": "data",
            "visible": true
           },
           "globalSeriesType": "column",
           "isAggregationOn": true,
           "legend": {
            "traceorder": "normal"
           },
           "missingValuesAsZero": true,
           "numberFormat": "0,0[.]00000",
           "percentFormat": "0[.]00%",
           "series": {
            "error_y": {
             "type": "data",
             "visible": true
            },
            "percentValues": false,
            "stacking": null
           },
           "seriesOptions": {
            "column_808f08b09": {
             "color": "#002FB4",
             "name": "Leadtime Entrega",
             "yAxis": 0
            }
           },
           "showDataLabels": true,
           "sizemode": "diameter",
           "sortX": true,
           "sortY": true,
           "swappedAxes": false,
           "textFormat": "",
           "useAggregationsUi": true,
           "valuesOptions": {},
           "version": 2,
           "xAxis": {
            "labels": {
             "enabled": true
            },
            "type": "-"
           },
           "yAxis": [
            {
             "type": "-"
            },
            {
             "opposite": true,
             "type": "-"
            }
           ]
          }
         }
        ]
       },
       "datasetPreviewNameToCmdIdMap": {},
       "diffDeletes": [],
       "diffInserts": [],
       "displayType": "redashChart",
       "error": null,
       "errorDetails": null,
       "errorSummary": null,
       "errorTraceType": null,
       "finishTime": 0,
       "globalVars": {},
       "guid": "",
       "height": "auto",
       "hideCommandCode": false,
       "hideCommandResult": false,
       "iPythonMetadata": null,
       "inputWidgets": {},
       "isLockedInExamMode": false,
       "latestUser": "a user",
       "latestUserId": null,
       "listResultMetadata": null,
       "metadata": {},
       "nuid": "7171dbac-1e3e-4ed8-843f-224215d2aa84",
       "origId": 0,
       "parentHierarchy": [],
       "pivotAggregation": null,
       "pivotColumns": null,
       "position": 11.0,
       "resultDbfsErrorMessage": null,
       "resultDbfsStatus": "INLINED_IN_TREE",
       "results": null,
       "showCommandTitle": false,
       "startTime": 0,
       "state": "input",
       "streamStates": {},
       "subcommandOptions": {
        "queryPlan": {
         "groups": [
          {
           "column": "estados",
           "type": "column"
          }
         ],
         "selects": [
          {
           "column": "estados",
           "type": "column"
          },
          {
           "alias": "column_808f08b09",
           "args": [
            {
             "column": "média de dias para entrega de produto",
             "type": "column"
            }
           ],
           "function": "SUM",
           "type": "function"
          }
         ]
        }
       },
       "submitTime": 0,
       "subtype": "tableResultSubCmd.visualization",
       "tableResultIndex": 0,
       "tableResultSettingsMap": {},
       "useConsistentColors": false,
       "version": "CommandV1",
       "width": "auto",
       "workflows": null,
       "xColumns": null,
       "yColumns": null
      }
     },
     "output_type": "display_data"
    }
   ],
   "source": [
    "%sql \n",
    "\n",
    "SELECT\n",
    "  T.estadoCliente AS estados,\n",
    "  T.diasEntrega AS `média de dias para entrega de produto`\n",
    "FROM\n",
    "  (\n",
    "    SELECT\n",
    "      estadoCliente,\n",
    "      ROUND(AVG(dataEntregaEmDias), 0) AS DiasEntrega\n",
    "    FROM\n",
    "      tutorial.original.sales\n",
    "    WHERE\n",
    "      meioDePagamento IS NOT NULL\n",
    "      AND YEAR(horaPedidoAprovado) IS NOT NULL\n",
    "      AND statusDoPedido <> \"cancelado\"\n",
    "    GROUP BY\n",
    "      estadoCliente\n",
    "  ) AS T"
   ]
  },
  {
   "cell_type": "code",
   "execution_count": 0,
   "metadata": {
    "application/vnd.databricks.v1+cell": {
     "cellMetadata": {
      "byteLimit": 2048000,
      "implicitDf": true,
      "rowLimit": 10000
     },
     "inputWidgets": {},
     "nuid": "e616864a-548b-4792-8fd6-e393e49b5a9b",
     "showTitle": false,
     "tableResultSettingsMap": {},
     "title": ""
    }
   },
   "outputs": [
    {
     "output_type": "display_data",
     "data": {
      "text/plain": [
       "Databricks visualization. Run in Databricks to view."
      ]
     },
     "metadata": {
      "application/vnd.databricks.v1.subcommand+json": {
       "baseErrorDetails": null,
       "bindings": {},
       "collapsed": false,
       "command": "%sql WITH q AS (SELECT\n    estadoCliente as `Estado`,\n    Year(horaPedidoAprovado) as `Ano`,\n    Count(*) as `Numero de Vendas`\nFROM\n    delta.`dbfs:/FileStore/project/olist/gold/sales`\nWHERE\n    statusDoPedido = \"entregue\"\nAnd\n    Year(horaPedidoAprovado) = \"2018\"\nGROUP BY\n    Estado, Ano) SELECT `Ano`,SUM(`Numero de Vendas`) `column_d4dae7648`,`Estado` FROM q GROUP BY `Ano`,`Estado`",
       "commandTitle": "Quantidade de Vendas por UF em 2018",
       "commandType": "auto",
       "commandVersion": 0,
       "commentThread": [],
       "commentsVisible": false,
       "contentSha256Hex": null,
       "customPlotOptions": {
        "redashChart": [
         {
          "key": "type",
          "value": "CHART"
         },
         {
          "key": "options",
          "value": {
           "alignYAxesAtZero": true,
           "coefficient": 1,
           "columnConfigurationMap": {
            "series": {
             "column": "Estado",
             "id": "column_d4dae7649"
            },
            "x": {
             "column": "Ano",
             "id": "column_d4dae7647"
            },
            "y": [
             {
              "column": "Numero de Vendas",
              "id": "column_d4dae7648",
              "transform": "SUM"
             }
            ]
           },
           "dateTimeFormat": "DD/MM/YYYY HH:mm",
           "direction": {
            "type": "counterclockwise"
           },
           "error_y": {
            "type": "data",
            "visible": true
           },
           "globalSeriesType": "column",
           "isAggregationOn": true,
           "legend": {
            "traceorder": "normal"
           },
           "missingValuesAsZero": true,
           "numberFormat": "0,0[.]00000",
           "percentFormat": "0[.]00%",
           "series": {
            "error_y": {
             "type": "data",
             "visible": true
            },
            "stacking": null
           },
           "seriesOptions": {
            "column_d4dae7648": {
             "name": "Numero de Vendas",
             "type": "column",
             "yAxis": 0
            }
           },
           "showDataLabels": true,
           "sizemode": "diameter",
           "sortX": true,
           "sortY": true,
           "swappedAxes": false,
           "textFormat": "",
           "useAggregationsUi": true,
           "valuesOptions": {},
           "version": 2,
           "xAxis": {
            "labels": {
             "enabled": true
            },
            "type": "-"
           },
           "yAxis": [
            {
             "type": "-"
            },
            {
             "opposite": true,
             "type": "-"
            }
           ]
          }
         }
        ]
       },
       "datasetPreviewNameToCmdIdMap": {},
       "diffDeletes": [],
       "diffInserts": [],
       "displayType": "redashChart",
       "error": null,
       "errorDetails": null,
       "errorSummary": null,
       "errorTraceType": null,
       "finishTime": 0,
       "globalVars": {},
       "guid": "",
       "height": "auto",
       "hideCommandCode": false,
       "hideCommandResult": false,
       "iPythonMetadata": null,
       "inputWidgets": {},
       "isLockedInExamMode": false,
       "latestUser": "a user",
       "latestUserId": null,
       "listResultMetadata": null,
       "metadata": {},
       "nuid": "095b53f9-9b15-4dfd-8271-7a5a8696d25d",
       "origId": 0,
       "parentHierarchy": [],
       "pivotAggregation": null,
       "pivotColumns": null,
       "position": 12.0,
       "resultDbfsErrorMessage": null,
       "resultDbfsStatus": "INLINED_IN_TREE",
       "results": null,
       "showCommandTitle": false,
       "startTime": 0,
       "state": "input",
       "streamStates": {},
       "subcommandOptions": {
        "queryPlan": {
         "groups": [
          {
           "column": "Ano",
           "type": "column"
          },
          {
           "column": "Estado",
           "type": "column"
          }
         ],
         "selects": [
          {
           "column": "Ano",
           "type": "column"
          },
          {
           "alias": "column_d4dae7648",
           "args": [
            {
             "column": "Numero de Vendas",
             "type": "column"
            }
           ],
           "function": "SUM",
           "type": "function"
          },
          {
           "column": "Estado",
           "type": "column"
          }
         ]
        }
       },
       "submitTime": 0,
       "subtype": "tableResultSubCmd.visualization",
       "tableResultIndex": 0,
       "tableResultSettingsMap": {},
       "useConsistentColors": false,
       "version": "CommandV1",
       "width": "auto",
       "workflows": null,
       "xColumns": null,
       "yColumns": null
      }
     },
     "output_type": "display_data"
    }
   ],
   "source": [
    "%sql\n",
    "SELECT\n",
    "    estadoCliente as `Estado`,\n",
    "    Year(horaPedidoAprovado) as `Ano`,\n",
    "    Count(*) as `Numero de Vendas`\n",
    "FROM\n",
    "    tutorial.original.sales\n",
    "WHERE\n",
    "    statusDoPedido = \"entregue\"\n",
    "And\n",
    "    Year(horaPedidoAprovado) = \"2018\"\n",
    "GROUP BY\n",
    "    Estado, Ano\n"
   ]
  },
  {
   "cell_type": "code",
   "execution_count": 0,
   "metadata": {
    "application/vnd.databricks.v1+cell": {
     "cellMetadata": {
      "byteLimit": 2048000,
      "implicitDf": true,
      "rowLimit": 10000
     },
     "inputWidgets": {},
     "nuid": "24666b68-a1ee-46dd-84c9-0e6c3b7a2343",
     "showTitle": false,
     "tableResultSettingsMap": {},
     "title": ""
    }
   },
   "outputs": [
    {
     "output_type": "display_data",
     "data": {
      "text/plain": [
       "Databricks visualization. Run in Databricks to view."
      ]
     },
     "metadata": {
      "application/vnd.databricks.v1.subcommand+json": {
       "baseErrorDetails": null,
       "bindings": {},
       "collapsed": false,
       "command": "%sql WITH q AS (SELECT\n  ROUND(SUM(valorPago)/Count(*), 2) as `Ticket Médio`,\n  Month(horaPedidoAprovado)\nFROM\n  delta.`dbfs:/FileStore/project/olist/gold/sales`\nWHERE\n  statusDoPedido = \"entregue\" AND Year(horaPedidoAprovado) = \"2017\"\nGROUP BY\n  Month(horaPedidoAprovado)) SELECT `month(horaPedidoAprovado)`,SUM(`Ticket Médio`) `column_d4dae76411` FROM q GROUP BY `month(horaPedidoAprovado)`",
       "commandTitle": "Ticket Médio 2017",
       "commandType": "auto",
       "commandVersion": 0,
       "commentThread": [],
       "commentsVisible": false,
       "contentSha256Hex": null,
       "customPlotOptions": {
        "redashChart": [
         {
          "key": "type",
          "value": "CHART"
         },
         {
          "key": "options",
          "value": {
           "alignYAxesAtZero": true,
           "coefficient": 1,
           "columnConfigurationMap": {
            "x": {
             "column": "month(horaPedidoAprovado)",
             "id": "column_d4dae76415"
            },
            "y": [
             {
              "column": "Ticket Médio",
              "id": "column_d4dae76411",
              "transform": "SUM"
             }
            ]
           },
           "dateTimeFormat": "DD/MM/YYYY HH:mm",
           "direction": {
            "type": "counterclockwise"
           },
           "error_y": {
            "type": "data",
            "visible": true
           },
           "globalSeriesType": "line",
           "isAggregationOn": true,
           "legend": {
            "traceorder": "normal"
           },
           "missingValuesAsZero": true,
           "numberFormat": "0,00",
           "percentFormat": "0[.]00%",
           "series": {
            "error_y": {
             "type": "data",
             "visible": true
            },
            "stacking": null
           },
           "seriesOptions": {
            "column_d4dae76411": {
             "name": "Mês",
             "type": "line",
             "yAxis": 0
            }
           },
           "showDataLabels": true,
           "sizemode": "diameter",
           "sortX": true,
           "sortY": true,
           "swappedAxes": false,
           "textFormat": "",
           "useAggregationsUi": true,
           "valuesOptions": {},
           "version": 2,
           "xAxis": {
            "labels": {
             "enabled": true
            },
            "title": {
             "text": "Ticket Médio 2017"
            },
            "type": "-"
           },
           "yAxis": [
            {
             "type": "-"
            },
            {
             "opposite": true,
             "type": "-"
            }
           ]
          }
         }
        ]
       },
       "datasetPreviewNameToCmdIdMap": {},
       "diffDeletes": [],
       "diffInserts": [],
       "displayType": "redashChart",
       "error": null,
       "errorDetails": null,
       "errorSummary": null,
       "errorTraceType": null,
       "finishTime": 0,
       "globalVars": {},
       "guid": "",
       "height": "auto",
       "hideCommandCode": false,
       "hideCommandResult": false,
       "iPythonMetadata": null,
       "inputWidgets": {},
       "isLockedInExamMode": false,
       "latestUser": "a user",
       "latestUserId": null,
       "listResultMetadata": null,
       "metadata": {},
       "nuid": "a325b28c-94a8-4a8a-a297-df03875befc0",
       "origId": 0,
       "parentHierarchy": [],
       "pivotAggregation": null,
       "pivotColumns": null,
       "position": 13.0,
       "resultDbfsErrorMessage": null,
       "resultDbfsStatus": "INLINED_IN_TREE",
       "results": null,
       "showCommandTitle": false,
       "startTime": 0,
       "state": "input",
       "streamStates": {},
       "subcommandOptions": {
        "queryPlan": {
         "groups": [
          {
           "column": "month(horaPedidoAprovado)",
           "type": "column"
          }
         ],
         "selects": [
          {
           "column": "month(horaPedidoAprovado)",
           "type": "column"
          },
          {
           "alias": "column_d4dae76411",
           "args": [
            {
             "column": "Ticket Médio",
             "type": "column"
            }
           ],
           "function": "SUM",
           "type": "function"
          }
         ]
        }
       },
       "submitTime": 0,
       "subtype": "tableResultSubCmd.visualization",
       "tableResultIndex": 0,
       "tableResultSettingsMap": {},
       "useConsistentColors": false,
       "version": "CommandV1",
       "width": "auto",
       "workflows": null,
       "xColumns": null,
       "yColumns": null
      }
     },
     "output_type": "display_data"
    }
   ],
   "source": [
    "%sql\n",
    "\n",
    "SELECT\n",
    "  ROUND(SUM(valorPago)/Count(*), 2) as `Ticket Médio`,\n",
    "  Month(horaPedidoAprovado)\n",
    "FROM\n",
    "  tutorial.original.sales\n",
    "WHERE\n",
    "  statusDoPedido = \"entregue\" AND Year(horaPedidoAprovado) = \"2017\"\n",
    "GROUP BY\n",
    "  Month(horaPedidoAprovado)"
   ]
  }
 ],
 "metadata": {
  "application/vnd.databricks.v1+notebook": {
   "dashboards": [],
   "environmentMetadata": null,
   "language": "python",
   "notebookMetadata": {
    "mostRecentlyExecutedCommandWithImplicitDF": {
     "commandId": 3616176710671127,
     "dataframes": [
      "_sqldf"
     ]
    },
    "pythonIndentUnit": 2
   },
   "notebookName": "3. Gold",
   "widgets": {}
  },
  "language_info": {
   "name": "python"
  }
 },
 "nbformat": 4,
 "nbformat_minor": 0
}
