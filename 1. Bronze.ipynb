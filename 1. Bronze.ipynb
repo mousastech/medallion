{
 "cells": [
  {
   "cell_type": "markdown",
   "metadata": {
    "application/vnd.databricks.v1+cell": {
     "cellMetadata": {},
     "inputWidgets": {},
     "nuid": "38c94643-c81d-4f9e-b524-47987b323723",
     "showTitle": false,
     "tableResultSettingsMap": {},
     "title": ""
    }
   },
   "source": [
    "<img src=\"https://github.com/mousastech/medallion/blob/fd1da67c7e3e3829e0ea84fc51c6c79a02e408da/imgs/Medallion.png?raw=true\">"
   ]
  },
  {
   "cell_type": "markdown",
   "metadata": {
    "application/vnd.databricks.v1+cell": {
     "cellMetadata": {},
     "inputWidgets": {},
     "nuid": "57b2e169-c87c-4311-a355-9bee2e37e2e8",
     "showTitle": false,
     "tableResultSettingsMap": {},
     "title": ""
    }
   },
   "source": [
    "#Medallion Architecture\n",
    "With Unity Catalog\n",
    "\n",
    "<img src=\"https://github.com/mousastech/medallion/blob/92d8750f657288477d48ba7e07ac8c8340d49cf3/imgs/architecture.png?raw=true\">\n",
    "\n",
    "[Reference](https://www.databricks.com/glossary/medallion-architecture)"
   ]
  },
  {
   "cell_type": "code",
   "execution_count": 0,
   "metadata": {
    "application/vnd.databricks.v1+cell": {
     "cellMetadata": {
      "byteLimit": 2048000,
      "rowLimit": 10000
     },
     "inputWidgets": {},
     "nuid": "c10c0240-1492-4067-a370-73eba894bec3",
     "showTitle": true,
     "tableResultSettingsMap": {},
     "title": "Importing  libraries"
    }
   },
   "outputs": [],
   "source": [
    "import pandas as pd\n",
    "from pyspark.sql import SparkSession\n",
    "from pyspark.sql.functions import *\n",
    "from pyspark.sql.types import StructType, StructField, StringType, TimestampType, DoubleType"
   ]
  },
  {
   "cell_type": "code",
   "execution_count": 0,
   "metadata": {
    "application/vnd.databricks.v1+cell": {
     "cellMetadata": {
      "byteLimit": 2048000,
      "implicitDf": true,
      "rowLimit": 10000
     },
     "inputWidgets": {},
     "nuid": "00d30089-376c-4369-aac1-38de2a9e8d84",
     "showTitle": true,
     "tableResultSettingsMap": {},
     "title": "Create Spark Session"
    }
   },
   "outputs": [],
   "source": [
    "%run ./setup "
   ]
  },
  {
   "cell_type": "code",
   "execution_count": 0,
   "metadata": {
    "application/vnd.databricks.v1+cell": {
     "cellMetadata": {
      "byteLimit": 2048000,
      "rowLimit": 10000
     },
     "inputWidgets": {},
     "nuid": "af46b4ab-f071-40e7-8ecf-812c990f9017",
     "showTitle": true,
     "tableResultSettingsMap": {},
     "title": "Point External locations mapped"
    }
   },
   "outputs": [],
   "source": [
    "# Point out the external location mapped before\n",
    "# Unity Catalog manages all permissions \n",
    "\n",
    "pathRaw = \"s3a://dlt-ecommerce/bronze\"\n",
    "pathBronze = \"s3a://dlt-ecommerce/bronze\"\n",
    "pathSilver = \"s3a://dlt-ecommerce/silver\"\n",
    "pathGold = \"s3a://dlt-ecommerce/gold\"\n",
    "\n",
    "catalog = \"ecommerce\" "
   ]
  },
  {
   "cell_type": "code",
   "execution_count": 0,
   "metadata": {
    "application/vnd.databricks.v1+cell": {
     "cellMetadata": {
      "byteLimit": 2048000,
      "rowLimit": 10000
     },
     "inputWidgets": {},
     "nuid": "a6e99ccf-bcc2-4658-8efc-860dc8c9f482",
     "showTitle": false,
     "tableResultSettingsMap": {},
     "title": ""
    }
   },
   "outputs": [],
   "source": [
    "# Define the path to the CSV file in the raw location\n",
    "orderPaymentsRaw = f\"{pathRaw}/order_payments/olist_order_payments_dataset.csv\"\n",
    "\n",
    "# Read the CSV file into a DataFrame\n",
    "dfOrderPayments = spark.read.csv(orderPaymentsRaw, header=True, inferSchema=True)\n",
    "\n",
    "# Write the DataFrame to a Delta table with the prefix\n",
    "table_name = f\"{catalog}.bronze.order_payments_bronze\"\n",
    "dfOrderPayments.write.format(\"delta\") \\\n",
    "    .mode(\"overwrite\") \\\n",
    "    .option(\"mergeSchema\", \"true\") \\\n",
    "    .saveAsTable(table_name)\n"
   ]
  },
  {
   "cell_type": "markdown",
   "metadata": {
    "application/vnd.databricks.v1+cell": {
     "cellMetadata": {},
     "inputWidgets": {},
     "nuid": "55aebd56-eade-4033-b424-7cb1808cf999",
     "showTitle": false,
     "tableResultSettingsMap": {},
     "title": ""
    }
   },
   "source": [
    "#Reading from raw \n",
    "And create a delta table in the bronze layer"
   ]
  },
  {
   "cell_type": "code",
   "execution_count": 0,
   "metadata": {
    "application/vnd.databricks.v1+cell": {
     "cellMetadata": {
      "byteLimit": 2048000,
      "rowLimit": 10000
     },
     "inputWidgets": {},
     "nuid": "d0ab24cd-fa29-4559-9759-07533d914d3b",
     "showTitle": true,
     "tableResultSettingsMap": {},
     "title": "Customers"
    }
   },
   "outputs": [],
   "source": [
    "from pyspark.sql.functions import current_timestamp\n",
    "\n",
    "# Define the path to the CSV file in the raw location\n",
    "customersRaw = f\"{pathRaw}/customers/olist_customers_dataset.csv\"\n",
    "\n",
    "# Read the CSV file into a DataFrame\n",
    "df_customers = spark.read.csv(customersRaw, header=True, inferSchema=True)\n",
    "df_customers = df_customers.withColumn(\"date_load\", current_timestamp())\n",
    "\n",
    "# Write the DataFrame to a Delta table with the prefix\n",
    "table_name = f\"{catalog}.bbronze.customers_bronze\"\n",
    "df_customers.write.format(\"delta\") \\\n",
    "    .mode(\"overwrite\") \\\n",
    "    .option(\"mergeSchema\", \"true\") \\\n",
    "    .saveAsTable(table_name)"
   ]
  },
  {
   "cell_type": "code",
   "execution_count": 0,
   "metadata": {
    "application/vnd.databricks.v1+cell": {
     "cellMetadata": {
      "byteLimit": 2048000,
      "rowLimit": 10000
     },
     "inputWidgets": {},
     "nuid": "4fb86196-bc51-407f-9193-49ce24ac3fdc",
     "showTitle": true,
     "tableResultSettingsMap": {},
     "title": "Geolocation"
    }
   },
   "outputs": [],
   "source": [
    "# Define the path to the CSV file in the raw location\n",
    "geolocationRaw = f\"{pathRaw}/geolocation/olist_geolocation_dataset.csv\"\n",
    "\n",
    "# Read the CSV file into a DataFrame\n",
    "df_geolocation = spark.read.csv(geolocationRaw, header=True, inferSchema=True)\n",
    "\n",
    "# Write the DataFrame to a Delta table\n",
    "table_name = f\"{catalog}.bbronze.geolocation_bronze\"\n",
    "df_geolocation.write.format(\"delta\").mode(\"overwrite\").saveAsTable(table_name)\n"
   ]
  },
  {
   "cell_type": "code",
   "execution_count": 0,
   "metadata": {
    "application/vnd.databricks.v1+cell": {
     "cellMetadata": {
      "byteLimit": 2048000,
      "rowLimit": 10000
     },
     "inputWidgets": {},
     "nuid": "501ada28-8c04-4758-897b-b59ca69acfe9",
     "showTitle": true,
     "tableResultSettingsMap": {},
     "title": "Order_items"
    }
   },
   "outputs": [],
   "source": [
    "# Define the path to the CSV file in the raw location\n",
    "orderItemsRaw = f\"{pathRaw}/order_items/olist_order_items_dataset.csv\"\n",
    "\n",
    "# Read the CSV file into a DataFrame\n",
    "df_order_items = spark.read.csv(orderItemsRaw, header=True, inferSchema=True)\n",
    "\n",
    "# Write the DataFrame to a Delta table with the prefix\n",
    "table_name = f\"{catalog}.bbronze.order_items_bronze\"\n",
    "df_order_items.write.format(\"delta\").mode(\"overwrite\").saveAsTable(table_name)"
   ]
  },
  {
   "cell_type": "code",
   "execution_count": 0,
   "metadata": {
    "application/vnd.databricks.v1+cell": {
     "cellMetadata": {
      "byteLimit": 2048000,
      "rowLimit": 10000
     },
     "inputWidgets": {},
     "nuid": "02a0c8c7-815b-45bc-a697-54ddfd082276",
     "showTitle": true,
     "tableResultSettingsMap": {},
     "title": "Order_payments"
    }
   },
   "outputs": [],
   "source": [
    "# Define the path to the CSV file in the raw location\n",
    "orderPaymentsRaw = f\"{pathRaw}/order_payments/olist_order_payments_dataset.csv\"\n",
    "\n",
    "# Read the CSV file into a DataFrame\n",
    "df_order_payments = spark.read.csv(orderItemsRaw, header=True, inferSchema=True)\n",
    "\n",
    "# Write the DataFrame to a Delta table with the prefix\n",
    "#table_name = f\"{catalog}.bbronze.order_payments_bronze\"\n",
    "table_name = f\"tutorial.original.order_payments\"\n",
    "\n",
    "df_order_payments.write.format(\"delta\") \\\n",
    "    .mode(\"overwrite\") \\\n",
    "    .option(\"mergeSchema\", \"true\") \\\n",
    "    .saveAsTable(table_name)"
   ]
  },
  {
   "cell_type": "code",
   "execution_count": 0,
   "metadata": {
    "application/vnd.databricks.v1+cell": {
     "cellMetadata": {
      "byteLimit": 2048000,
      "rowLimit": 10000
     },
     "inputWidgets": {},
     "nuid": "0d042513-3cd7-4619-aa81-f3ca3a9e853c",
     "showTitle": true,
     "tableResultSettingsMap": {},
     "title": "Order_reviews"
    }
   },
   "outputs": [],
   "source": [
    "# Define the path to the CSV file in the raw location\n",
    "orderReviewsRaw = f\"{pathRaw}/order_reviews/olist_order_reviews_dataset.csv\"\n",
    "\n",
    "# Read the CSV file into a DataFrame\n",
    "df_order_reviews = spark.read.csv(orderReviewsRaw, header=True, inferSchema=True)\n",
    "\n",
    "# Write the DataFrame to a Delta table with the prefix\n",
    "table_name = f\"{catalog}.bbronze.order_reviews_bronze\"\n",
    "df_order_reviews.write.format(\"delta\").mode(\"overwrite\").saveAsTable(table_name)"
   ]
  },
  {
   "cell_type": "code",
   "execution_count": 0,
   "metadata": {
    "application/vnd.databricks.v1+cell": {
     "cellMetadata": {
      "byteLimit": 2048000,
      "rowLimit": 10000
     },
     "inputWidgets": {},
     "nuid": "c74c6c02-c885-4775-a5e7-337515cbf667",
     "showTitle": true,
     "tableResultSettingsMap": {},
     "title": "Orders"
    }
   },
   "outputs": [],
   "source": [
    "# Define the path to the CSV file in the raw location\n",
    "ordersRaw = f\"{pathRaw}/orders/olist_orders_dataset.csv\"\n",
    "\n",
    "# Read the CSV file into a DataFrame\n",
    "df_orders = spark.read.csv(ordersRaw, header=True, inferSchema=True)\n",
    "\n",
    "# Write the DataFrame to a Delta table with the prefix\n",
    "table_name = f\"{catalog}.bbronze.orders_bronze\"\n",
    "df_orders.write.format(\"delta\").mode(\"overwrite\").saveAsTable(table_name)"
   ]
  },
  {
   "cell_type": "code",
   "execution_count": 0,
   "metadata": {
    "application/vnd.databricks.v1+cell": {
     "cellMetadata": {
      "byteLimit": 2048000,
      "rowLimit": 10000
     },
     "inputWidgets": {},
     "nuid": "33105283-7b79-46ee-8ccd-c4d4b672b575",
     "showTitle": true,
     "tableResultSettingsMap": {},
     "title": "Products"
    }
   },
   "outputs": [],
   "source": [
    "# Define the path to the CSV file in the raw location\n",
    "productsRaw = f\"{pathRaw}/products/olist_products_dataset.csv\"\n",
    "\n",
    "# Read the CSV file into a DataFrame\n",
    "df_products = spark.read.csv(productsRaw, header=True, inferSchema=True)\n",
    "\n",
    "# Write the DataFrame to a Delta table with the prefix\n",
    "table_name = f\"{catalog}.bbronze.products_bronze\"\n",
    "df_products.write.format(\"delta\").mode(\"overwrite\").saveAsTable(table_name)"
   ]
  },
  {
   "cell_type": "code",
   "execution_count": 0,
   "metadata": {
    "application/vnd.databricks.v1+cell": {
     "cellMetadata": {
      "byteLimit": 2048000,
      "rowLimit": 10000
     },
     "inputWidgets": {},
     "nuid": "8577b0fb-8147-45e6-8bf3-52e3d83b9d2b",
     "showTitle": true,
     "tableResultSettingsMap": {},
     "title": "Sellers"
    }
   },
   "outputs": [],
   "source": [
    "# Define the path to the CSV file in the raw location\n",
    "sellersRaw = f\"{pathRaw}/sellers/olist_sellers_dataset.csv\"\n",
    "\n",
    "# Read the CSV file into a DataFrame\n",
    "df_sellers = spark.read.csv(sellersRaw, header=True, inferSchema=True)\n",
    "\n",
    "# Write the DataFrame to a Delta table with the prefix\n",
    "table_name = f\"{catalog}.bbronze.sellers_bronze\"\n",
    "df_sellers.write.format(\"delta\").mode(\"overwrite\").saveAsTable(table_name)"
   ]
  },
  {
   "cell_type": "markdown",
   "metadata": {
    "application/vnd.databricks.v1+cell": {
     "cellMetadata": {},
     "inputWidgets": {},
     "nuid": "af8bdb09-4fe2-488a-a759-4b5e6a86abe6",
     "showTitle": false,
     "tableResultSettingsMap": {},
     "title": ""
    }
   },
   "source": [
    "### Optional - just to know how to access a file directly from a github"
   ]
  },
  {
   "cell_type": "code",
   "execution_count": 0,
   "metadata": {
    "application/vnd.databricks.v1+cell": {
     "cellMetadata": {
      "byteLimit": 2048000,
      "rowLimit": 10000
     },
     "inputWidgets": {},
     "nuid": "5acc00c0-9e1a-4e81-ad2b-d100f96a10dd",
     "showTitle": true,
     "tableResultSettingsMap": {},
     "title": "Example how to import to the lake"
    }
   },
   "outputs": [],
   "source": [
    "spark = SparkSession.builder.appName(\"olist-analysis\").getOrCreate()\n",
    "\n",
    "link_csv_category = \"https://raw.githubusercontent.com/mousastech/dlt_ingestion/refs/heads/main/data_olist/product_category_name_translation.csv\"\n",
    "\n",
    "pathRawcategory = \"s3a://dlt-ecommerce/bronze\"\n",
    "\n",
    "df_category = spark.createDataFrame(pd.read_csv(link_csv_category))\n",
    "\n",
    "df_category.write.format(\"csv\").mode(\"overwrite\").save(f'{pathRawcategory}/category/category.csv')"
   ]
  },
  {
   "cell_type": "markdown",
   "metadata": {
    "application/vnd.databricks.v1+cell": {
     "cellMetadata": {},
     "inputWidgets": {},
     "nuid": "3f796922-b3b7-472b-aaf3-e00ffbcc9599",
     "showTitle": false,
     "tableResultSettingsMap": {},
     "title": ""
    }
   },
   "source": [
    "#Bronze\n",
    "Create delta table and move the data to the bronze bucket"
   ]
  },
  {
   "cell_type": "code",
   "execution_count": 0,
   "metadata": {
    "application/vnd.databricks.v1+cell": {
     "cellMetadata": {},
     "inputWidgets": {},
     "nuid": "c17cefc6-cd27-44c9-842b-f20207085a55",
     "showTitle": false,
     "tableResultSettingsMap": {},
     "title": ""
    }
   },
   "outputs": [],
   "source": [
    "# Define the path to the CSV file in the raw location\n",
    "customersRaw = f\"{pathRaw}/customers/olist_customers_dataset.csv\"\n",
    "\n",
    "# Read the CSV file into a DataFrame\n",
    "df_customers = spark.read.csv(customersRaw, header=True, inferSchema=True)\n",
    "\n",
    "# Write the DataFrame to a Delta table\n",
    "df_customers.write.format(\"delta\").mode(\"overwrite\").saveAsTable(\"ecommerce.bronze.customers_bronze\")"
   ]
  },
  {
   "cell_type": "code",
   "execution_count": 0,
   "metadata": {
    "application/vnd.databricks.v1+cell": {
     "cellMetadata": {
      "byteLimit": 2048000,
      "rowLimit": 10000
     },
     "inputWidgets": {},
     "nuid": "a32d250f-5ffe-484a-a6f9-67408dd41379",
     "showTitle": false,
     "tableResultSettingsMap": {},
     "title": ""
    }
   },
   "outputs": [],
   "source": [
    "# Carregando dados na Camada Silver\n",
    "\n",
    "#Customers data\n",
    "customersSilver = (\n",
    "    spark.sql(f'''\n",
    "       SELECT\n",
    "            customerId,\n",
    "            customerUniqueId,\n",
    "            customerZipCodePrefix,\n",
    "            customerCity,\n",
    "            customerState,\n",
    "            CAST(DataRawLoad AS TIMESTAMP) AS DataRawLoad\n",
    "       FROM\n",
    "          (\n",
    "            SELECT \n",
    "                DENSE_RANK() OVER(ORDER BY DataRawLoad DESC) AS rank, * \n",
    "            FROM tutorial.original.customers\n",
    "          ) AS C\n",
    "       WHERE\n",
    "            C.rank = 1\n",
    "       ''')\n",
    ")\n",
    "(\n",
    "    customersSilver\n",
    "     .write\n",
    "     .format(\"delta\")\n",
    "     .mode(\"overwrite\")\n",
    "     .saveAsTable(f\"tutorial.original.customers_silver\")\n",
    ")\n",
    "\n",
    "# Geolocation\n",
    "geolocationSilver = (\n",
    "    spark.sql(f'''\n",
    "       SELECT\n",
    "            geolocationCodePrefix,\n",
    "            geolocationLat,\n",
    "            geolocationLng,\n",
    "            geolocationCity,\n",
    "            geolocationState,\n",
    "            CAST(DataRawLoad AS TIMESTAMP) AS DataRawLoad\n",
    "       FROM\n",
    "          (\n",
    "            SELECT \n",
    "                DENSE_RANK() OVER(ORDER BY DataRawLoad DESC) AS rank, * \n",
    "            FROM tutorial.original.geolocation\n",
    "          ) AS G\n",
    "       WHERE\n",
    "            G.rank = 1\n",
    "       ''')\n",
    ")\n",
    "(\n",
    "geolocationSilver\n",
    "    .write\n",
    "    .format(\"delta\")\n",
    "    .mode(\"overwrite\")\n",
    "    .saveAsTable(f\"tutorial.original.geolocation_silver\")\n",
    ")\n",
    "\n",
    "# Order_items\n",
    "order_itemsSilver = (\n",
    "    spark.sql(f'''\n",
    "       SELECT\n",
    "            orderId,\n",
    "            orderItemId,\n",
    "            productId,\n",
    "            sellerId,\n",
    "            shippingLimitDate,\n",
    "            price,\n",
    "            freightValue,\n",
    "            CAST(DataRawLoad AS TIMESTAMP) AS DataRawLoad\n",
    "       FROM\n",
    "          (\n",
    "            SELECT \n",
    "                DENSE_RANK() OVER(ORDER BY DataRawLoad DESC) AS rank, * \n",
    "            FROM tutorial.original.order_items\n",
    "          ) AS O\n",
    "       WHERE\n",
    "            O.rank = 1\n",
    "       ''')\n",
    ")\n",
    "(\n",
    "order_itemsSilver\n",
    "    .write\n",
    "    .format(\"delta\")\n",
    "    .mode(\"overwrite\")\n",
    "    .saveAsTable(f\"tutorial.original.order_items\")\n",
    ")\n",
    "\n",
    "# Order Payments\n",
    "order_paymentsSilver = (\n",
    "    spark.sql(f'''\n",
    "       SELECT\n",
    "            orderId,\n",
    "            paymentSequential,\n",
    "            paymentType,\n",
    "            paymentInstallments,\n",
    "            paymentValue,\n",
    "            CAST(DataRawLoad AS TIMESTAMP) AS DataRawLoad\n",
    "       FROM\n",
    "          (\n",
    "            SELECT \n",
    "                DENSE_RANK() OVER(ORDER BY DataRawLoad DESC) AS rank, * \n",
    "            FROM tutorial.original.order_payments\n",
    "          ) AS T\n",
    "       WHERE\n",
    "            T.rank = 1\n",
    "       ''')\n",
    ")\n",
    "(\n",
    "order_paymentsSilver\n",
    "    .write\n",
    "    .format(\"delta\")\n",
    "    .mode(\"overwrite\")\n",
    "    .saveAsTable(f\"tutorial.original.order_payments\")\n",
    ")\n",
    "\n",
    "order_reviewsSilver = (\n",
    "    spark.sql(f'''\n",
    "       SELECT\n",
    "            reviewId,\n",
    "            orderId,\n",
    "            reviewScore,\n",
    "            reviewCommentTitle,\n",
    "            reviewCommentMessage,\n",
    "            reviewCreationDate,\n",
    "            reviewAnswerTimestamp,\n",
    "            CAST(DataRawLoad AS TIMESTAMP) AS DataRawLoad\n",
    "       FROM\n",
    "          (\n",
    "            SELECT \n",
    "                DENSE_RANK() OVER(ORDER BY DataRawLoad DESC) AS rank, * \n",
    "            FROM tutorial.original.order_reviews\n",
    "          ) AS R\n",
    "       WHERE\n",
    "            R.rank = 1\n",
    "       ''')\n",
    ")\n",
    "(\n",
    "order_reviewsSilver\n",
    "    .write\n",
    "    .format(\"delta\")\n",
    "    .mode(\"overwrite\")\n",
    "    .saveAsTable(f\"tutorial.original.order_reviews\")\n",
    ")\n",
    "\n",
    "# Orders\n",
    "ordersSilver = (\n",
    "    spark.sql(f'''\n",
    "       SELECT\n",
    "            orderId,\n",
    "            customerId,\n",
    "            orderStatus,\n",
    "            orderPurchaseTimestamp,\n",
    "            orderApprovedAt,\n",
    "            orderDeliveredCarrierDate,\n",
    "            orderDeliveredCustomerDate,\n",
    "            orderEstimatedDeliveryDate,\n",
    "            CAST(DataRawLoad AS TIMESTAMP) AS DataRawLoad\n",
    "       FROM\n",
    "          (\n",
    "            SELECT \n",
    "                DENSE_RANK() OVER(ORDER BY DataRawLoad DESC) AS rank, * \n",
    "            FROM tutorial.original.orders\n",
    "          ) AS O\n",
    "       WHERE\n",
    "            O.rank = 1\n",
    "       ''')\n",
    ")\n",
    "(\n",
    "ordersSilver\n",
    "    .write\n",
    "    .format(\"delta\")\n",
    "    .mode(\"overwrite\")\n",
    "    .saveAsTable(f\"tutorial.original.orders\")\n",
    ")\n",
    "\n",
    "# Products\n",
    "productsSilver = (\n",
    "    spark.sql(f'''\n",
    "       SELECT\n",
    "            productId,\n",
    "            productCategoryName,\n",
    "            productNameLenght,\n",
    "            productDescriptionLenght,\n",
    "            productPhotosQty,\n",
    "            productWeight_g,\n",
    "            productLength_cm,\n",
    "            productHeight_cm,\n",
    "            productWidth_cm,\n",
    "            CAST(DataRawLoad AS TIMESTAMP) AS DataRawLoad\n",
    "       FROM\n",
    "          (\n",
    "            SELECT \n",
    "                DENSE_RANK() OVER(ORDER BY DataRawLoad DESC) AS rank, * \n",
    "            FROM tutorial.original.products\n",
    "           ) AS P\n",
    "       WHERE\n",
    "            P.rank = 1\n",
    "       ''')\n",
    ")\n",
    "(\n",
    "productsSilver\n",
    "    .write\n",
    "    .format(\"delta\")\n",
    "    .mode(\"overwrite\")\n",
    "    .saveAsTable(f\"tutorial.original.products\")\n",
    ")\n",
    "\n",
    "# Sellers\n",
    "sellersSilver = (\n",
    "    spark.sql(f'''\n",
    "       SELECT\n",
    "            sellerId,\n",
    "            sellerCodePrefix,\n",
    "            sellerCity,\n",
    "            sellerState,\n",
    "            CAST(DataRawLoad AS TIMESTAMP) AS DataRawLoad\n",
    "       FROM\n",
    "          (\n",
    "            SELECT \n",
    "                DENSE_RANK() OVER(ORDER BY DataRawLoad DESC) AS rank, * \n",
    "            FROM tutorial.original.sellers\n",
    "          ) AS T\n",
    "       WHERE\n",
    "            T.rank = 1\n",
    "       ''')\n",
    ")\n",
    "(\n",
    "sellersSilver\n",
    "    .write\n",
    "    .format(\"delta\")\n",
    "    .mode(\"overwrite\")\n",
    "    .saveAsTable(f\"tutorial.original.sellers\")\n",
    ")\n",
    "\n",
    "# Category\n",
    "categorySilver = (\n",
    "    spark.sql(f'''\n",
    "       SELECT\n",
    "            productCategory,\n",
    "            productCategoryNameEnglish,\n",
    "            CAST(DataRawLoad AS TIMESTAMP) AS DataRawLoad\n",
    "       FROM\n",
    "          (\n",
    "            SELECT \n",
    "                dense_rank() over(order by DataRawLoad desc) as rank, * \n",
    "            FROM tutorial.original.category\n",
    "          ) AS C\n",
    "       WHERE\n",
    "            C.rank = 1\n",
    "        ''')\n",
    ")\n",
    "(\n",
    "categorySilver\n",
    "    .write\n",
    "    .format(\"delta\")\n",
    "    .mode(\"overwrite\")\n",
    "    .saveAsTable(f\"tutorial.original.category\")\n",
    ")"
   ]
  },
  {
   "cell_type": "code",
   "execution_count": 0,
   "metadata": {
    "application/vnd.databricks.v1+cell": {
     "cellMetadata": {
      "byteLimit": 2048000,
      "implicitDf": true,
      "rowLimit": 10000
     },
     "inputWidgets": {},
     "nuid": "a5dac4cf-6cc2-4ab8-a1a4-8cb482590af5",
     "showTitle": false,
     "tableResultSettingsMap": {},
     "title": ""
    }
   },
   "outputs": [],
   "source": [
    "%sql\n",
    "\n",
    "-- Criando a camada Gold, gerando uma tabela juntando todos os dados\n",
    "\n",
    "CREATE OR REPLACE TABLE tutorial.original.sales\n",
    "USING DELTA PARTITIONED BY (estadoCliente) \n",
    "(\n",
    "  SELECT\n",
    "    CASE\n",
    "      WHEN orders.orderStatus = 'shipped' THEN 'enviado'\n",
    "      WHEN orders.orderStatus = 'canceled' THEN 'cancelado'\n",
    "      WHEN orders.orderStatus = 'invoiced' THEN 'faturado'\n",
    "      WHEN orders.orderStatus = 'created' THEN 'criado'\n",
    "      WHEN orders.orderStatus = 'delivered' THEN 'entregue'\n",
    "      WHEN orders.orderStatus = 'unavailable' THEN 'indisponível'\n",
    "      WHEN orders.orderStatus = 'processing' THEN 'em processamento'\n",
    "      WHEN orders.orderStatus = 'approved' THEN 'aprovado'\n",
    "    END AS statusDoPedido,\n",
    "    orders.orderPurchaseTimestamp AS horaCompraPedido,\n",
    "    orders.orderApprovedAt AS horaPedidoAprovado,\n",
    "    orders.orderEstimatedDeliveryDate AS dataEstimadaEntrega,\n",
    "    DATEDIFF(\n",
    "      orders.orderEstimatedDeliveryDate,\n",
    "      orders.orderApprovedAt\n",
    "    ) AS dataEntregaEmDias,\n",
    "    order_reviews.reviewScore AS notaProduto,\n",
    "    order_reviews.reviewAnswerTimestamp AS dataComentarioSobreProduto,\n",
    "    CASE\n",
    "      WHEN order_payments.paymentType = 'credit_card' THEN 'cartao_de_credito'\n",
    "      WHEN order_payments.paymentType = 'boleto' THEN 'boleto'\n",
    "      WHEN order_payments.paymentType = 'not_defined' THEN 'não_definido'\n",
    "      WHEN order_payments.paymentType = 'voucher' THEN 'voucher'\n",
    "      WHEN order_payments.paymentType = 'debit_card' THEN 'cartao_de_debito'\n",
    "    END AS meioDePagamento,\n",
    "    order_payments.paymentInstallments AS parcelamento,\n",
    "    order_payments.paymentValue AS valorPago,\n",
    "    customers.customerCity AS cidadeCliente,\n",
    "    customers.customerState AS estadoCliente\n",
    "  FROM\n",
    "    tutorial.original.orders\n",
    "    LEFT JOIN tutorial.original.order_payments\n",
    "        order_payments ON order_payments.orderId = orders.orderId\n",
    "    LEFT JOIN tutorial.original.order_reviews \n",
    "        order_reviews ON order_reviews.orderId = orders.orderId\n",
    "    LEFT JOIN tutorial.original.customers\n",
    "        customers ON customers.customerId = orders.customerId\n",
    ")"
   ]
  },
  {
   "cell_type": "code",
   "execution_count": 0,
   "metadata": {
    "application/vnd.databricks.v1+cell": {
     "cellMetadata": {
      "byteLimit": 2048000,
      "implicitDf": true,
      "rowLimit": 10000
     },
     "inputWidgets": {},
     "nuid": "df8ac7e0-572e-4451-bbed-36f174a91a7d",
     "showTitle": false,
     "tableResultSettingsMap": {},
     "title": ""
    }
   },
   "outputs": [],
   "source": [
    "%sql\n",
    "SELECT * FROM tutorial.original.sales LIMIT 10"
   ]
  },
  {
   "cell_type": "markdown",
   "metadata": {
    "application/vnd.databricks.v1+cell": {
     "cellMetadata": {},
     "inputWidgets": {},
     "nuid": "60870962-c394-4a8f-b5ab-ddf940c87e28",
     "showTitle": false,
     "tableResultSettingsMap": {},
     "title": ""
    }
   },
   "source": [
    "# Visualizações"
   ]
  },
  {
   "cell_type": "code",
   "execution_count": 0,
   "metadata": {
    "application/vnd.databricks.v1+cell": {
     "cellMetadata": {
      "byteLimit": 2048000,
      "implicitDf": true,
      "rowLimit": 10000
     },
     "inputWidgets": {},
     "nuid": "90add451-53b0-43f9-a12a-58d4ed1a9873",
     "showTitle": false,
     "tableResultSettingsMap": {},
     "title": ""
    }
   },
   "outputs": [
    {
     "output_type": "display_data",
     "data": {
      "text/plain": [
       "Databricks visualization. Run in Databricks to view."
      ]
     },
     "metadata": {
      "application/vnd.databricks.v1.subcommand+json": {
       "baseErrorDetails": null,
       "bindings": {},
       "collapsed": false,
       "command": "%sql WITH q AS (SELECT\n  estadoCliente AS estados,\n  meioDePagamento AS `meio de pagamento`,\n  count(*) AS `percentual`\nFROM\n  delta.`dbfs:/FileStore/project/olist/gold/sales`\nWHERE\n  meioDePagamento IS NOT NULL\n  AND YEAR(horaPedidoAprovado) IS NOT NULL\n  AND statusDoPedido = \"entregue\"\nGROUP BY\n  estadoCliente,\n  meioDePagamento) SELECT `estados`,`meio de pagamento`,SUM(`percentual`) `column_808f08b07` FROM q GROUP BY `estados`,`meio de pagamento`",
       "commandTitle": "Percental Meio Pgto UF",
       "commandType": "auto",
       "commandVersion": 0,
       "commentThread": [],
       "commentsVisible": false,
       "contentSha256Hex": null,
       "customPlotOptions": {
        "redashChart": [
         {
          "key": "type",
          "value": "CHART"
         },
         {
          "key": "options",
          "value": {
           "alignYAxesAtZero": true,
           "coefficient": 1,
           "columnConfigurationMap": {
            "series": {
             "column": "meio de pagamento",
             "id": "column_808f08b06"
            },
            "x": {
             "column": "estados",
             "id": "column_808f08b05"
            },
            "y": [
             {
              "column": "percentual",
              "id": "column_808f08b07",
              "transform": "SUM"
             }
            ]
           },
           "dateTimeFormat": "DD/MM/YYYY HH:mm",
           "direction": {
            "type": "counterclockwise"
           },
           "error_y": {
            "type": "data",
            "visible": true
           },
           "globalSeriesType": "column",
           "isAggregationOn": true,
           "legend": {
            "traceorder": "normal"
           },
           "missingValuesAsZero": true,
           "numberFormat": "0,0[.]00000",
           "percentFormat": "0[.]00%",
           "series": {
            "error_y": {
             "type": "data",
             "visible": true
            },
            "percentValues": true,
            "stacking": "stack"
           },
           "seriesOptions": {
            "boleto": {
             "name": "Boleto"
            },
            "cartao_de_credito": {
             "name": "Cartão de Crédito"
            },
            "cartao_de_debito": {
             "name": "Cartão de Débito"
            },
            "column_808f08b07": {
             "name": "percentual",
             "yAxis": 0
            },
            "voucher": {
             "name": "Voucher"
            }
           },
           "showDataLabels": true,
           "sizemode": "diameter",
           "sortX": true,
           "sortY": true,
           "swappedAxes": false,
           "textFormat": "",
           "useAggregationsUi": true,
           "valuesOptions": {},
           "version": 2,
           "xAxis": {
            "labels": {
             "enabled": true
            },
            "type": "-"
           },
           "yAxis": [
            {
             "type": "-"
            },
            {
             "opposite": true,
             "type": "-"
            }
           ]
          }
         }
        ]
       },
       "datasetPreviewNameToCmdIdMap": {},
       "diffDeletes": [],
       "diffInserts": [],
       "displayType": "redashChart",
       "error": null,
       "errorDetails": null,
       "errorSummary": null,
       "errorTraceType": null,
       "finishTime": 0,
       "globalVars": {},
       "guid": "",
       "height": "auto",
       "hideCommandCode": false,
       "hideCommandResult": false,
       "iPythonMetadata": null,
       "inputWidgets": {},
       "isLockedInExamMode": false,
       "latestUser": "a user",
       "latestUserId": null,
       "listResultMetadata": null,
       "metadata": {},
       "nuid": "4461895b-bb57-4ecb-9dfc-7db088cb8a5c",
       "origId": 0,
       "parentHierarchy": [],
       "pivotAggregation": null,
       "pivotColumns": null,
       "position": 10.0,
       "resultDbfsErrorMessage": null,
       "resultDbfsStatus": "INLINED_IN_TREE",
       "results": null,
       "showCommandTitle": false,
       "startTime": 0,
       "state": "input",
       "streamStates": {},
       "subcommandOptions": {
        "queryPlan": {
         "groups": [
          {
           "column": "estados",
           "type": "column"
          },
          {
           "column": "meio de pagamento",
           "type": "column"
          }
         ],
         "selects": [
          {
           "column": "estados",
           "type": "column"
          },
          {
           "column": "meio de pagamento",
           "type": "column"
          },
          {
           "alias": "column_808f08b07",
           "args": [
            {
             "column": "percentual",
             "type": "column"
            }
           ],
           "function": "SUM",
           "type": "function"
          }
         ]
        }
       },
       "submitTime": 0,
       "subtype": "tableResultSubCmd.visualization",
       "tableResultIndex": 0,
       "tableResultSettingsMap": {},
       "useConsistentColors": false,
       "version": "CommandV1",
       "width": "auto",
       "workflows": null,
       "xColumns": null,
       "yColumns": null
      }
     },
     "output_type": "display_data"
    }
   ],
   "source": [
    "%sql\n",
    "\n",
    "SELECT\n",
    "  estadoCliente AS estados,\n",
    "  meioDePagamento AS `meio de pagamento`,\n",
    "  count(*) AS `percentual`\n",
    "FROM\n",
    "  tutorial.original.sales\n",
    "WHERE\n",
    "  meioDePagamento IS NOT NULL\n",
    "  AND YEAR(horaPedidoAprovado) IS NOT NULL\n",
    "  AND statusDoPedido = \"entregue\"\n",
    "GROUP BY\n",
    "  estadoCliente,\n",
    "  meioDePagamento"
   ]
  },
  {
   "cell_type": "code",
   "execution_count": 0,
   "metadata": {
    "application/vnd.databricks.v1+cell": {
     "cellMetadata": {
      "byteLimit": 2048000,
      "implicitDf": true,
      "rowLimit": 10000
     },
     "inputWidgets": {},
     "nuid": "5e90baf4-a075-45d6-8e9c-9e331746c8ae",
     "showTitle": false,
     "tableResultSettingsMap": {},
     "title": ""
    }
   },
   "outputs": [
    {
     "output_type": "display_data",
     "data": {
      "text/plain": [
       "Databricks visualization. Run in Databricks to view."
      ]
     },
     "metadata": {
      "application/vnd.databricks.v1.subcommand+json": {
       "baseErrorDetails": null,
       "bindings": {},
       "collapsed": false,
       "command": "%sql WITH q AS (SELECT\n  T.estadoCliente AS estados,\n  T.diasEntrega AS `média de dias para entrega de produto`\nFROM\n  (\n    SELECT\n      estadoCliente,\n      ROUND(AVG(dataEntregaEmDias), 0) AS DiasEntrega\n    FROM\n      delta.`dbfs:/FileStore/project/olist/gold/sales`\n    WHERE\n      meioDePagamento IS NOT NULL\n      AND YEAR(horaPedidoAprovado) IS NOT NULL\n      AND statusDoPedido <> \"cancelado\"\n    GROUP BY\n      estadoCliente\n  ) AS T) SELECT `estados`,SUM(`média de dias para entrega de produto`) `column_808f08b09` FROM q GROUP BY `estados`",
       "commandTitle": "Leadtime Entrega",
       "commandType": "auto",
       "commandVersion": 0,
       "commentThread": [],
       "commentsVisible": false,
       "contentSha256Hex": null,
       "customPlotOptions": {
        "redashChart": [
         {
          "key": "type",
          "value": "CHART"
         },
         {
          "key": "options",
          "value": {
           "alignYAxesAtZero": true,
           "coefficient": 1,
           "columnConfigurationMap": {
            "x": {
             "column": "estados",
             "id": "column_808f08b08"
            },
            "y": [
             {
              "column": "média de dias para entrega de produto",
              "id": "column_808f08b09",
              "transform": "SUM"
             }
            ]
           },
           "dateTimeFormat": "DD/MM/YYYY HH:mm",
           "direction": {
            "type": "counterclockwise"
           },
           "error_y": {
            "type": "data",
            "visible": true
           },
           "globalSeriesType": "column",
           "isAggregationOn": true,
           "legend": {
            "traceorder": "normal"
           },
           "missingValuesAsZero": true,
           "numberFormat": "0,0[.]00000",
           "percentFormat": "0[.]00%",
           "series": {
            "error_y": {
             "type": "data",
             "visible": true
            },
            "percentValues": false,
            "stacking": null
           },
           "seriesOptions": {
            "column_808f08b09": {
             "color": "#002FB4",
             "name": "Leadtime Entrega",
             "yAxis": 0
            }
           },
           "showDataLabels": true,
           "sizemode": "diameter",
           "sortX": true,
           "sortY": true,
           "swappedAxes": false,
           "textFormat": "",
           "useAggregationsUi": true,
           "valuesOptions": {},
           "version": 2,
           "xAxis": {
            "labels": {
             "enabled": true
            },
            "type": "-"
           },
           "yAxis": [
            {
             "type": "-"
            },
            {
             "opposite": true,
             "type": "-"
            }
           ]
          }
         }
        ]
       },
       "datasetPreviewNameToCmdIdMap": {},
       "diffDeletes": [],
       "diffInserts": [],
       "displayType": "redashChart",
       "error": null,
       "errorDetails": null,
       "errorSummary": null,
       "errorTraceType": null,
       "finishTime": 0,
       "globalVars": {},
       "guid": "",
       "height": "auto",
       "hideCommandCode": false,
       "hideCommandResult": false,
       "iPythonMetadata": null,
       "inputWidgets": {},
       "isLockedInExamMode": false,
       "latestUser": "a user",
       "latestUserId": null,
       "listResultMetadata": null,
       "metadata": {},
       "nuid": "7171dbac-1e3e-4ed8-843f-224215d2aa84",
       "origId": 0,
       "parentHierarchy": [],
       "pivotAggregation": null,
       "pivotColumns": null,
       "position": 11.0,
       "resultDbfsErrorMessage": null,
       "resultDbfsStatus": "INLINED_IN_TREE",
       "results": null,
       "showCommandTitle": false,
       "startTime": 0,
       "state": "input",
       "streamStates": {},
       "subcommandOptions": {
        "queryPlan": {
         "groups": [
          {
           "column": "estados",
           "type": "column"
          }
         ],
         "selects": [
          {
           "column": "estados",
           "type": "column"
          },
          {
           "alias": "column_808f08b09",
           "args": [
            {
             "column": "média de dias para entrega de produto",
             "type": "column"
            }
           ],
           "function": "SUM",
           "type": "function"
          }
         ]
        }
       },
       "submitTime": 0,
       "subtype": "tableResultSubCmd.visualization",
       "tableResultIndex": 0,
       "tableResultSettingsMap": {},
       "useConsistentColors": false,
       "version": "CommandV1",
       "width": "auto",
       "workflows": null,
       "xColumns": null,
       "yColumns": null
      }
     },
     "output_type": "display_data"
    }
   ],
   "source": [
    "%sql \n",
    "\n",
    "SELECT\n",
    "  T.estadoCliente AS estados,\n",
    "  T.diasEntrega AS `média de dias para entrega de produto`\n",
    "FROM\n",
    "  (\n",
    "    SELECT\n",
    "      estadoCliente,\n",
    "      ROUND(AVG(dataEntregaEmDias), 0) AS DiasEntrega\n",
    "    FROM\n",
    "      tutorial.original.sales\n",
    "    WHERE\n",
    "      meioDePagamento IS NOT NULL\n",
    "      AND YEAR(horaPedidoAprovado) IS NOT NULL\n",
    "      AND statusDoPedido <> \"cancelado\"\n",
    "    GROUP BY\n",
    "      estadoCliente\n",
    "  ) AS T"
   ]
  },
  {
   "cell_type": "code",
   "execution_count": 0,
   "metadata": {
    "application/vnd.databricks.v1+cell": {
     "cellMetadata": {
      "byteLimit": 2048000,
      "implicitDf": true,
      "rowLimit": 10000
     },
     "inputWidgets": {},
     "nuid": "e616864a-548b-4792-8fd6-e393e49b5a9b",
     "showTitle": false,
     "tableResultSettingsMap": {},
     "title": ""
    }
   },
   "outputs": [
    {
     "output_type": "display_data",
     "data": {
      "text/plain": [
       "Databricks visualization. Run in Databricks to view."
      ]
     },
     "metadata": {
      "application/vnd.databricks.v1.subcommand+json": {
       "baseErrorDetails": null,
       "bindings": {},
       "collapsed": false,
       "command": "%sql WITH q AS (SELECT\n    estadoCliente as `Estado`,\n    Year(horaPedidoAprovado) as `Ano`,\n    Count(*) as `Numero de Vendas`\nFROM\n    delta.`dbfs:/FileStore/project/olist/gold/sales`\nWHERE\n    statusDoPedido = \"entregue\"\nAnd\n    Year(horaPedidoAprovado) = \"2018\"\nGROUP BY\n    Estado, Ano) SELECT `Ano`,SUM(`Numero de Vendas`) `column_d4dae7648`,`Estado` FROM q GROUP BY `Ano`,`Estado`",
       "commandTitle": "Quantidade de Vendas por UF em 2018",
       "commandType": "auto",
       "commandVersion": 0,
       "commentThread": [],
       "commentsVisible": false,
       "contentSha256Hex": null,
       "customPlotOptions": {
        "redashChart": [
         {
          "key": "type",
          "value": "CHART"
         },
         {
          "key": "options",
          "value": {
           "alignYAxesAtZero": true,
           "coefficient": 1,
           "columnConfigurationMap": {
            "series": {
             "column": "Estado",
             "id": "column_d4dae7649"
            },
            "x": {
             "column": "Ano",
             "id": "column_d4dae7647"
            },
            "y": [
             {
              "column": "Numero de Vendas",
              "id": "column_d4dae7648",
              "transform": "SUM"
             }
            ]
           },
           "dateTimeFormat": "DD/MM/YYYY HH:mm",
           "direction": {
            "type": "counterclockwise"
           },
           "error_y": {
            "type": "data",
            "visible": true
           },
           "globalSeriesType": "column",
           "isAggregationOn": true,
           "legend": {
            "traceorder": "normal"
           },
           "missingValuesAsZero": true,
           "numberFormat": "0,0[.]00000",
           "percentFormat": "0[.]00%",
           "series": {
            "error_y": {
             "type": "data",
             "visible": true
            },
            "stacking": null
           },
           "seriesOptions": {
            "column_d4dae7648": {
             "name": "Numero de Vendas",
             "type": "column",
             "yAxis": 0
            }
           },
           "showDataLabels": true,
           "sizemode": "diameter",
           "sortX": true,
           "sortY": true,
           "swappedAxes": false,
           "textFormat": "",
           "useAggregationsUi": true,
           "valuesOptions": {},
           "version": 2,
           "xAxis": {
            "labels": {
             "enabled": true
            },
            "type": "-"
           },
           "yAxis": [
            {
             "type": "-"
            },
            {
             "opposite": true,
             "type": "-"
            }
           ]
          }
         }
        ]
       },
       "datasetPreviewNameToCmdIdMap": {},
       "diffDeletes": [],
       "diffInserts": [],
       "displayType": "redashChart",
       "error": null,
       "errorDetails": null,
       "errorSummary": null,
       "errorTraceType": null,
       "finishTime": 0,
       "globalVars": {},
       "guid": "",
       "height": "auto",
       "hideCommandCode": false,
       "hideCommandResult": false,
       "iPythonMetadata": null,
       "inputWidgets": {},
       "isLockedInExamMode": false,
       "latestUser": "a user",
       "latestUserId": null,
       "listResultMetadata": null,
       "metadata": {},
       "nuid": "095b53f9-9b15-4dfd-8271-7a5a8696d25d",
       "origId": 0,
       "parentHierarchy": [],
       "pivotAggregation": null,
       "pivotColumns": null,
       "position": 12.0,
       "resultDbfsErrorMessage": null,
       "resultDbfsStatus": "INLINED_IN_TREE",
       "results": null,
       "showCommandTitle": false,
       "startTime": 0,
       "state": "input",
       "streamStates": {},
       "subcommandOptions": {
        "queryPlan": {
         "groups": [
          {
           "column": "Ano",
           "type": "column"
          },
          {
           "column": "Estado",
           "type": "column"
          }
         ],
         "selects": [
          {
           "column": "Ano",
           "type": "column"
          },
          {
           "alias": "column_d4dae7648",
           "args": [
            {
             "column": "Numero de Vendas",
             "type": "column"
            }
           ],
           "function": "SUM",
           "type": "function"
          },
          {
           "column": "Estado",
           "type": "column"
          }
         ]
        }
       },
       "submitTime": 0,
       "subtype": "tableResultSubCmd.visualization",
       "tableResultIndex": 0,
       "tableResultSettingsMap": {},
       "useConsistentColors": false,
       "version": "CommandV1",
       "width": "auto",
       "workflows": null,
       "xColumns": null,
       "yColumns": null
      }
     },
     "output_type": "display_data"
    }
   ],
   "source": [
    "%sql\n",
    "SELECT\n",
    "    estadoCliente as `Estado`,\n",
    "    Year(horaPedidoAprovado) as `Ano`,\n",
    "    Count(*) as `Numero de Vendas`\n",
    "FROM\n",
    "    tutorial.original.sales\n",
    "WHERE\n",
    "    statusDoPedido = \"entregue\"\n",
    "And\n",
    "    Year(horaPedidoAprovado) = \"2018\"\n",
    "GROUP BY\n",
    "    Estado, Ano\n"
   ]
  },
  {
   "cell_type": "code",
   "execution_count": 0,
   "metadata": {
    "application/vnd.databricks.v1+cell": {
     "cellMetadata": {
      "byteLimit": 2048000,
      "implicitDf": true,
      "rowLimit": 10000
     },
     "inputWidgets": {},
     "nuid": "24666b68-a1ee-46dd-84c9-0e6c3b7a2343",
     "showTitle": false,
     "tableResultSettingsMap": {},
     "title": ""
    }
   },
   "outputs": [
    {
     "output_type": "display_data",
     "data": {
      "text/plain": [
       "Databricks visualization. Run in Databricks to view."
      ]
     },
     "metadata": {
      "application/vnd.databricks.v1.subcommand+json": {
       "baseErrorDetails": null,
       "bindings": {},
       "collapsed": false,
       "command": "%sql WITH q AS (SELECT\n  ROUND(SUM(valorPago)/Count(*), 2) as `Ticket Médio`,\n  Month(horaPedidoAprovado)\nFROM\n  delta.`dbfs:/FileStore/project/olist/gold/sales`\nWHERE\n  statusDoPedido = \"entregue\" AND Year(horaPedidoAprovado) = \"2017\"\nGROUP BY\n  Month(horaPedidoAprovado)) SELECT `month(horaPedidoAprovado)`,SUM(`Ticket Médio`) `column_d4dae76411` FROM q GROUP BY `month(horaPedidoAprovado)`",
       "commandTitle": "Ticket Médio 2017",
       "commandType": "auto",
       "commandVersion": 0,
       "commentThread": [],
       "commentsVisible": false,
       "contentSha256Hex": null,
       "customPlotOptions": {
        "redashChart": [
         {
          "key": "type",
          "value": "CHART"
         },
         {
          "key": "options",
          "value": {
           "alignYAxesAtZero": true,
           "coefficient": 1,
           "columnConfigurationMap": {
            "x": {
             "column": "month(horaPedidoAprovado)",
             "id": "column_d4dae76415"
            },
            "y": [
             {
              "column": "Ticket Médio",
              "id": "column_d4dae76411",
              "transform": "SUM"
             }
            ]
           },
           "dateTimeFormat": "DD/MM/YYYY HH:mm",
           "direction": {
            "type": "counterclockwise"
           },
           "error_y": {
            "type": "data",
            "visible": true
           },
           "globalSeriesType": "line",
           "isAggregationOn": true,
           "legend": {
            "traceorder": "normal"
           },
           "missingValuesAsZero": true,
           "numberFormat": "0,00",
           "percentFormat": "0[.]00%",
           "series": {
            "error_y": {
             "type": "data",
             "visible": true
            },
            "stacking": null
           },
           "seriesOptions": {
            "column_d4dae76411": {
             "name": "Mês",
             "type": "line",
             "yAxis": 0
            }
           },
           "showDataLabels": true,
           "sizemode": "diameter",
           "sortX": true,
           "sortY": true,
           "swappedAxes": false,
           "textFormat": "",
           "useAggregationsUi": true,
           "valuesOptions": {},
           "version": 2,
           "xAxis": {
            "labels": {
             "enabled": true
            },
            "title": {
             "text": "Ticket Médio 2017"
            },
            "type": "-"
           },
           "yAxis": [
            {
             "type": "-"
            },
            {
             "opposite": true,
             "type": "-"
            }
           ]
          }
         }
        ]
       },
       "datasetPreviewNameToCmdIdMap": {},
       "diffDeletes": [],
       "diffInserts": [],
       "displayType": "redashChart",
       "error": null,
       "errorDetails": null,
       "errorSummary": null,
       "errorTraceType": null,
       "finishTime": 0,
       "globalVars": {},
       "guid": "",
       "height": "auto",
       "hideCommandCode": false,
       "hideCommandResult": false,
       "iPythonMetadata": null,
       "inputWidgets": {},
       "isLockedInExamMode": false,
       "latestUser": "a user",
       "latestUserId": null,
       "listResultMetadata": null,
       "metadata": {},
       "nuid": "a325b28c-94a8-4a8a-a297-df03875befc0",
       "origId": 0,
       "parentHierarchy": [],
       "pivotAggregation": null,
       "pivotColumns": null,
       "position": 13.0,
       "resultDbfsErrorMessage": null,
       "resultDbfsStatus": "INLINED_IN_TREE",
       "results": null,
       "showCommandTitle": false,
       "startTime": 0,
       "state": "input",
       "streamStates": {},
       "subcommandOptions": {
        "queryPlan": {
         "groups": [
          {
           "column": "month(horaPedidoAprovado)",
           "type": "column"
          }
         ],
         "selects": [
          {
           "column": "month(horaPedidoAprovado)",
           "type": "column"
          },
          {
           "alias": "column_d4dae76411",
           "args": [
            {
             "column": "Ticket Médio",
             "type": "column"
            }
           ],
           "function": "SUM",
           "type": "function"
          }
         ]
        }
       },
       "submitTime": 0,
       "subtype": "tableResultSubCmd.visualization",
       "tableResultIndex": 0,
       "tableResultSettingsMap": {},
       "useConsistentColors": false,
       "version": "CommandV1",
       "width": "auto",
       "workflows": null,
       "xColumns": null,
       "yColumns": null
      }
     },
     "output_type": "display_data"
    }
   ],
   "source": [
    "%sql\n",
    "\n",
    "SELECT\n",
    "  ROUND(SUM(valorPago)/Count(*), 2) as `Ticket Médio`,\n",
    "  Month(horaPedidoAprovado)\n",
    "FROM\n",
    "  tutorial.original.sales\n",
    "WHERE\n",
    "  statusDoPedido = \"entregue\" AND Year(horaPedidoAprovado) = \"2017\"\n",
    "GROUP BY\n",
    "  Month(horaPedidoAprovado)"
   ]
  },
  {
   "cell_type": "code",
   "execution_count": 0,
   "metadata": {
    "application/vnd.databricks.v1+cell": {
     "cellMetadata": {
      "byteLimit": 2048000,
      "implicitDf": true,
      "rowLimit": 10000
     },
     "inputWidgets": {},
     "nuid": "909eef73-d94b-4eb0-b1fe-7336a02cda97",
     "showTitle": false,
     "tableResultSettingsMap": {},
     "title": ""
    }
   },
   "outputs": [],
   "source": [
    "%sql\n",
    "SELECT\n",
    "            customerId,\n",
    "            customerUniqueId,\n",
    "            customerZipCodePrefix,\n",
    "            customerCity,\n",
    "            customerState,\n",
    "            CAST(DataRawLoad AS TIMESTAMP) AS DataRawLoad\n",
    "       FROM\n",
    "          (\n",
    "            SELECT \n",
    "                DENSE_RANK() OVER(ORDER BY DataRawLoad DESC) AS rank, * \n",
    "            FROM tutorial.original.customers\n",
    "          ) AS C\n",
    "       WHERE\n",
    "            C.rank = 1"
   ]
  },
  {
   "cell_type": "code",
   "execution_count": 0,
   "metadata": {
    "application/vnd.databricks.v1+cell": {
     "cellMetadata": {
      "byteLimit": 2048000,
      "implicitDf": true,
      "rowLimit": 10000
     },
     "inputWidgets": {},
     "nuid": "cf0c34c5-a042-490c-abd8-94caebd6da9e",
     "showTitle": false,
     "tableResultSettingsMap": {},
     "title": ""
    }
   },
   "outputs": [],
   "source": [
    "%sql\n",
    "SELECT\n",
    "            orderId,\n",
    "            orderItemId,\n",
    "            productId,\n",
    "            sellerId,\n",
    "            shippingLimitDate,\n",
    "            price,\n",
    "            freightValue,\n",
    "            CAST(DataRawLoad AS TIMESTAMP) AS DataRawLoad\n",
    "       FROM\n",
    "          (\n",
    "            SELECT \n",
    "                DENSE_RANK() OVER(ORDER BY DataRawLoad DESC) AS rank, * \n",
    "            FROM tutorial.original.order_items\n",
    "          ) AS O\n",
    "       WHERE\n",
    "            O.rank = 1\n",
    "       ;"
   ]
  }
 ],
 "metadata": {
  "application/vnd.databricks.v1+notebook": {
   "computePreferences": null,
   "dashboards": [],
   "environmentMetadata": null,
   "language": "python",
   "notebookMetadata": {
    "mostRecentlyExecutedCommandWithImplicitDF": {
     "commandId": -1,
     "dataframes": [
      "_sqldf"
     ]
    },
    "pythonIndentUnit": 2
   },
   "notebookName": "1. Bronze",
   "widgets": {}
  },
  "language_info": {
   "name": "python"
  }
 },
 "nbformat": 4,
 "nbformat_minor": 0
}
